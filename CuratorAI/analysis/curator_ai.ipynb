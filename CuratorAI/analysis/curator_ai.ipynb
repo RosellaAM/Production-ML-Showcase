{
 "cells": [
  {
   "cell_type": "markdown",
   "id": "e6c5c155",
   "metadata": {},
   "source": [
    "# CuratorAI: A Personalized Art & Museum Discovery Engine"
   ]
  }
 ],
 "metadata": {
  "language_info": {
   "name": "python"
  }
 },
 "nbformat": 4,
 "nbformat_minor": 5
}
